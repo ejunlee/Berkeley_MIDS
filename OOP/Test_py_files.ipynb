{
 "cells": [
  {
   "cell_type": "code",
   "execution_count": 1,
   "id": "e4600ca4-0a93-4e2c-b88d-89ca9ac87007",
   "metadata": {},
   "outputs": [],
   "source": [
    "from auction import Auction\n",
    "from auction import User\n",
    "from bidder import Bidder\n"
   ]
  },
  {
   "cell_type": "code",
   "execution_count": 2,
   "id": "7f5ebbdc-30a9-466f-92d4-fe470b0b5465",
   "metadata": {},
   "outputs": [],
   "source": [
    "user_list = [User() for i in range(5)]\n",
    "round = 1 \n",
    "bidder_list = [Bidder(len(user_list),round) for i in range (3)]\n",
    "game = Auction(user_list, bidder_list)"
   ]
  },
  {
   "cell_type": "code",
   "execution_count": 19,
   "id": "c62621ab-9e01-4a87-9d95-ac4e226b9f04",
   "metadata": {},
   "outputs": [],
   "source": [
    "game.execute_round()"
   ]
  },
  {
   "cell_type": "code",
   "execution_count": 20,
   "id": "d739812f-0151-4025-b724-d2d0d7c4473d",
   "metadata": {},
   "outputs": [
    {
     "data": {
      "text/plain": [
       "{<bidder.Bidder at 0x275091f94c0>: 1.47,\n",
       " <bidder.Bidder at 0x275091f9490>: -0.9299999999999999,\n",
       " <bidder.Bidder at 0x275091f9430>: -0.68}"
      ]
     },
     "execution_count": 20,
     "metadata": {},
     "output_type": "execute_result"
    }
   ],
   "source": [
    "game.balances"
   ]
  },
  {
   "cell_type": "code",
   "execution_count": 21,
   "id": "8927bedf-0645-45f3-bfa4-cc1e673fc94b",
   "metadata": {},
   "outputs": [
    {
     "name": "stdout",
     "output_type": "stream",
     "text": [
      "<bidder.Bidder object at 0x00000275091F94C0> {'user_id 3': 1, 'user_id 4': 1}\n",
      "<bidder.Bidder object at 0x00000275091F9490> {}\n",
      "<bidder.Bidder object at 0x00000275091F9430> {}\n"
     ]
    }
   ],
   "source": [
    "for i in bidder_list:\n",
    "    print(i, i.user_dict)"
   ]
  },
  {
   "cell_type": "code",
   "execution_count": null,
   "id": "6af6afe8-2a90-4b61-8aaa-d3e32f482665",
   "metadata": {},
   "outputs": [],
   "source": []
  }
 ],
 "metadata": {
  "kernelspec": {
   "display_name": "Python 3 (ipykernel)",
   "language": "python",
   "name": "python3"
  },
  "language_info": {
   "codemirror_mode": {
    "name": "ipython",
    "version": 3
   },
   "file_extension": ".py",
   "mimetype": "text/x-python",
   "name": "python",
   "nbconvert_exporter": "python",
   "pygments_lexer": "ipython3",
   "version": "3.9.12"
  }
 },
 "nbformat": 4,
 "nbformat_minor": 5
}
