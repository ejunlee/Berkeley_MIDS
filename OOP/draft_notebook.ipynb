{
 "cells": [
  {
   "cell_type": "markdown",
   "id": "764e87cc-6db2-4dd2-a391-bcfb86283a00",
   "metadata": {},
   "source": [
    "# Testing and Exploring"
   ]
  },
  {
   "cell_type": "code",
   "execution_count": 83,
   "id": "a4fded17-ca1a-42b8-8edb-00a667b1b554",
   "metadata": {},
   "outputs": [],
   "source": [
    "import numpy as np\n",
    "\n",
    "class User:\n",
    "    \"\"\"This is the User Class and will be used for the Auction\n",
    "    \\nThere are no inputs.\n",
    "    \\n There is on method called show_ad\"\"\"\n",
    "    def __init__(self):\n",
    "        \"\"\"Probability is hidden and randomly asssigned\"\"\"\n",
    "        self.__probability = np.random.uniform()\n",
    "        \n",
    "    def show_ad(self):\n",
    "        \"\"\"Returns True if the user clicks the add\"\"\"\n",
    "        result = np.random.choice([True,False], p=[self.__probability, 1-self.__probability])\n",
    "        return result\n",
    "    \n",
    "    # def __repr__(self):\n",
    "    #     return \"User ID: \" + str(Auction.self.user_id)\n",
    "    "
   ]
  },
  {
   "cell_type": "code",
   "execution_count": null,
   "id": "22f82205-9d22-4ab7-a678-82506ffa2ddd",
   "metadata": {},
   "outputs": [],
   "source": [
    "user_list = [User() for i in range(5)]"
   ]
  },
  {
   "cell_type": "code",
   "execution_count": null,
   "id": "88e9c1b8-8ebd-4ba5-9554-dd8ebf9cd659",
   "metadata": {},
   "outputs": [],
   "source": [
    "user_list[4]._User__probability"
   ]
  },
  {
   "cell_type": "code",
   "execution_count": null,
   "id": "539c84da-9f2c-46fc-a048-412e9642ff6c",
   "metadata": {},
   "outputs": [],
   "source": [
    "user1 = User()"
   ]
  },
  {
   "cell_type": "code",
   "execution_count": null,
   "id": "57a3cd13-95b9-4639-a170-e191c69105a8",
   "metadata": {},
   "outputs": [],
   "source": [
    "user1._User__probability"
   ]
  },
  {
   "cell_type": "code",
   "execution_count": null,
   "id": "460936dc-a577-482b-b6b8-1ca577f0c92d",
   "metadata": {},
   "outputs": [],
   "source": [
    "user1.show_ad()"
   ]
  },
  {
   "cell_type": "code",
   "execution_count": 127,
   "id": "16fb584c-2d7d-4e23-9c5f-c7d2225d0bee",
   "metadata": {},
   "outputs": [],
   "source": [
    "import numpy as np\n",
    "class Bidder:\n",
    "    \"\"\"This is the Bidder class and used for the Auction.\n",
    "    \\nBidder(num_users, num_rounds)\n",
    "    \\nThere are two methods: Bid and Notify\"\"\"\n",
    "    def __init__(self, num_users, num_rounds):\n",
    "        self.num_users = num_users\n",
    "        self.num_rounds = num_rounds\n",
    "        self.user_dict ={} \n",
    "        self.winning_list = {True:0, False:0}\n",
    "        self.bid_num = 0\n",
    "        self.user_dict_total={}\n",
    "    def bid(self, user_id):\n",
    "        self.user_id = user_id\n",
    "        self.bid_num +=1\n",
    "        \n",
    "        #create user id\n",
    "        user = \"user_id \" +str(self.user_id)\n",
    "        if user in self.user_dict:\n",
    "            chosen_user_ratio = self.user_dict[user]/self.user_dict_total[user] \n",
    "        \n",
    "        if self.user_dict == {} and self.num_rounds>100 and self.bid_num < 50:\n",
    "            # bid_amount = 1\n",
    "            bid_amount = 1\n",
    "            return bid_amount\n",
    "        elif user in self.user_dict:\n",
    "            if chosen_user_ratio > 0.5:\n",
    "                bid_amount = 0.75\n",
    "                return bid_amount\n",
    "            else:\n",
    "                bid_amount = 0.5\n",
    "                return bid_amount\n",
    "        else:\n",
    "            bid_amount = 0.5\n",
    "            return bid_amount\n",
    "    \n",
    "    def notify(self, auction_winner, price, clicked):\n",
    "        \"\"\"Adding auction win\"\"\"\n",
    "        self.winning_list[auction_winner] +=1\n",
    "        user = \"user_id \" +str(self.user_id)\n",
    "        if auction_winner == True and clicked == True:\n",
    "            if user in self.user_dict:\n",
    "                self.user_dict[user] += 1\n",
    "            else:\n",
    "                self.user_dict[user] = 1\n",
    "        if auction_winner == True and clicked == True:\n",
    "            if user in self.user_dict_total:\n",
    "                    self.user_dict_total[user] += 1\n",
    "            else:\n",
    "                self.user_dict_total[user] = 1\n",
    "                # print(\"You won the auction and the cost of the bid was\", price)\n",
    "                # print(\"User choose to click:\",clicked)\n"
   ]
  },
  {
   "cell_type": "code",
   "execution_count": null,
   "id": "89c81cd3-f4c2-4877-ac9c-fe0d88a9d7f3",
   "metadata": {},
   "outputs": [],
   "source": [
    "dicti ={1:0}"
   ]
  },
  {
   "cell_type": "code",
   "execution_count": null,
   "id": "6ec1ea3f-1eb1-407a-a647-8923e5666c76",
   "metadata": {},
   "outputs": [],
   "source": [
    "dicti[1]+=1\n",
    "dicti"
   ]
  },
  {
   "cell_type": "code",
   "execution_count": null,
   "id": "4785325b-a62f-4f61-82f2-9a6c41c61fe6",
   "metadata": {},
   "outputs": [],
   "source": [
    "1 in dicti"
   ]
  },
  {
   "cell_type": "code",
   "execution_count": 93,
   "id": "48d0892d-79c5-4ee9-b186-f17102046eb2",
   "metadata": {},
   "outputs": [
    {
     "data": {
      "text/plain": [
       "60"
      ]
     },
     "execution_count": 93,
     "metadata": {},
     "output_type": "execute_result"
    }
   ],
   "source": [
    "dictio ={True:20, False:40}\n",
    "sum(dictio.values())"
   ]
  },
  {
   "cell_type": "code",
   "execution_count": null,
   "id": "b744ac78-3975-4e7d-8fe5-47f800cac113",
   "metadata": {},
   "outputs": [],
   "source": [
    "x = float(f\"{np.random.uniform():.2}\")\n",
    "print(type(x))\n",
    "x"
   ]
  },
  {
   "cell_type": "code",
   "execution_count": null,
   "id": "f2d03241-dcbf-44ae-a369-5f9b55914613",
   "metadata": {},
   "outputs": [],
   "source": [
    "bid1=Bidder(2,3)\n",
    "bid1.fund"
   ]
  },
  {
   "cell_type": "code",
   "execution_count": null,
   "id": "533c8f98-07c8-45b7-9d99-fc5c67a3a053",
   "metadata": {},
   "outputs": [],
   "source": [
    "bid1.bid(1)"
   ]
  },
  {
   "cell_type": "code",
   "execution_count": null,
   "id": "447517c8-87c6-4bc2-8dca-b720a465be1d",
   "metadata": {},
   "outputs": [],
   "source": [
    "rounds = 100\n",
    "bidder_list = [Bidder(len(user_list),rounds) for i in range(10)]"
   ]
  },
  {
   "cell_type": "code",
   "execution_count": 97,
   "id": "95ca3831-dd82-44e3-a4d6-b645fee5ac42",
   "metadata": {},
   "outputs": [],
   "source": [
    "class Auction:\n",
    "    \"\"\"This is the Aucton Class.\n",
    "    \\nIt takes two input (users, bidders)\n",
    "    \\nThe game holds the rules\n",
    "    for the second price auction.\n",
    "    \"\"\"\n",
    "    def __init__(self, users, bidders):\n",
    "        self.users = users\n",
    "        self.bidders = bidders\n",
    "        \n",
    "        \"\"\"create a dictionary of bidders and funds\"\"\"\n",
    "        Auction.balances ={}\n",
    "        for i in self.bidders:\n",
    "            Auction.balances[i] = 0\n",
    "            \n",
    "        # Auction.users = {}\n",
    "        # for i in self.users:\n",
    "        #     Auction.users[i]\n",
    "\n",
    "    def execute_round(self):\n",
    "        '''Choosing a random user'''\n",
    "        Auction.chosen = np.random.randint(0,len(self.users))\n",
    "        # print(\"Choosing User\", Auction.chosen)\n",
    "        \n",
    "        '''Biders bid and collate bid in a dictionary'''\n",
    "        bid_dict = {}\n",
    "        for i in self.bidders:\n",
    "            bid_dict[i]=(i.bid(Auction.chosen))\n",
    "        # print(\"These are all the bidder\", bid_dict)\n",
    "        \n",
    "        \"\"\"Find the highest bidder\"\"\"\n",
    "        key_max = max(bid_dict.keys(), key=(lambda k: bid_dict[k]))\n",
    "        \n",
    "        # print(f\"Highest bidder {key_max}\")\n",
    "        # print(f\"Highest bid was ${bid_dict[key_max]}\" )\n",
    "        \n",
    "        \"\"\"find the second highest bidder\"\"\"\n",
    "        if len(self.bidders) > 1:\n",
    "            value_max2 = sorted(bid_dict.values())[-2]\n",
    "            key_max2_list = [k for k,v in bid_dict.items() if v == value_max2]\n",
    "        else:\n",
    "            value_max = bid_dict[key_max]\n",
    "        # print(f\"The second highest bid is ${value_max2}\" )\n",
    "        # print(\"The second highest bidder\", key_max2_list[0])\n",
    "        \n",
    "        \"\"\"Compare the highest and second highest bidder\"\"\"\n",
    "        if len(self.bidders) > 1 and bid_dict[key_max] == bid_dict[key_max2_list[0]]:\n",
    "            winner = np.random.choice([key_max,key_max2_list[0]])\n",
    "            # print(winner)\n",
    "        else:\n",
    "            winner = key_max\n",
    "            # print(\"Auction winner\", winner)\n",
    "            \n",
    "        \"\"\"user clicks ad or not\"\"\"\n",
    "        clicked = self.users[Auction.chosen].show_ad()\n",
    "        \n",
    "        \"\"\"update the auction balance\"\"\"\n",
    "        if len(self.bidders)> 1: \n",
    "            Auction.balances[winner] -= value_max2\n",
    "        else:\n",
    "            Auction.balances[winner]=-value_max\n",
    "        \n",
    "        if clicked:\n",
    "            Auction.balances[winner] += 1\n",
    "        \n",
    "        \"\"\"Notify the winner\"\"\"\n",
    "        if len(self.bidders) > 1:\n",
    "            winner.notify(True, value_max2, clicked)\n",
    "        else:\n",
    "            winner.notify(True, value_max, clicked)\n",
    "        \"\"\"Notify the other bidders\"\"\"\n",
    "        for i in self.bidders:\n",
    "            if i != winner:\n",
    "                i.notify(False, value_max2, None)\n",
    "        \n",
    "    def plot_history(self):\n",
    "        pass\n",
    "        # for i in self.bidders:\n",
    "        #     plt.plot(np.cumsum(Auction.balances[i]))\n",
    "        #     plt.title(\"Reward History\")\n",
    "        #     plt.xlabel('move')\n",
    "        #     plt.ylabel(\"total balance\")"
   ]
  },
  {
   "cell_type": "code",
   "execution_count": null,
   "id": "4dd4b4a6-509d-488b-bc1a-0bb9b0f1ece3",
   "metadata": {},
   "outputs": [],
   "source": [
    "x={4:\"hello\",5:\"there\", 6:\"who\"}\n",
    "np.random.choice(list(x.values()))"
   ]
  },
  {
   "cell_type": "code",
   "execution_count": null,
   "id": "1ee8b3ac-1ccc-43ff-948e-ef8055c7bc25",
   "metadata": {},
   "outputs": [],
   "source": [
    "\"\"\"Find the highest key\"\"\"\n",
    "my_dict = {'x':2.333, 'y':200, 'z': 560}\n",
    "\n",
    "key_max = max(my_dict.keys(), key=(lambda k: my_dict[k]))\n",
    "\n",
    "print('Maximum Value: ',my_dict[key_max])\n"
   ]
  },
  {
   "cell_type": "code",
   "execution_count": null,
   "id": "c8f22d89-fa47-404e-a70a-ca86e14c6633",
   "metadata": {},
   "outputs": [],
   "source": [
    "\"\"\"Get value of the second highest number\"\"\"\n",
    "example_dict = {\"mark\": 13, \"steve\": 3, \"bill\": 6, \"linus\": 11}\n",
    "\n",
    "print(\"Output1:\", sorted(example_dict.values())[-2])\n"
   ]
  },
  {
   "cell_type": "code",
   "execution_count": null,
   "id": "b2277efc-6542-4502-bdd6-ddb30ebc928d",
   "metadata": {},
   "outputs": [],
   "source": [
    "d = {1: 'aaa', 2: 'aaa', 'key3': 'bbb'}\n",
    "keys = [k for k, v in d.items() if v == 'aaa']\n",
    "print(keys)"
   ]
  },
  {
   "cell_type": "markdown",
   "id": "43d339cf-e897-4539-9a75-1f5e70fd17c9",
   "metadata": {},
   "source": [
    "__________________"
   ]
  },
  {
   "cell_type": "markdown",
   "id": "fc34ec15-cbf3-4d33-ab93-6a05dc51f16d",
   "metadata": {},
   "source": [
    "### Settings to start the game"
   ]
  },
  {
   "cell_type": "code",
   "execution_count": 98,
   "id": "8ba80f62-2837-421f-9add-875e6d0c58c9",
   "metadata": {},
   "outputs": [],
   "source": [
    "user_list = [User() for i in range(10)]\n",
    "round = 1\n",
    "bidder_list = [Bidder(len(user_list), round) for i in range(2)]\n",
    "game = Auction(user_list, bidder_list)"
   ]
  },
  {
   "cell_type": "code",
   "execution_count": 99,
   "id": "3a912620-4581-447e-80b9-f0d687b46371",
   "metadata": {},
   "outputs": [
    {
     "data": {
      "text/plain": [
       "{<__main__.Bidder at 0x15e7114dcd0>: 0, <__main__.Bidder at 0x15e7114d250>: 0}"
      ]
     },
     "execution_count": 99,
     "metadata": {},
     "output_type": "execute_result"
    }
   ],
   "source": [
    "game.balances"
   ]
  },
  {
   "cell_type": "code",
   "execution_count": 104,
   "id": "9409c32a-1682-4843-87a1-a1b2a4a3ee03",
   "metadata": {
    "scrolled": true,
    "tags": []
   },
   "outputs": [],
   "source": [
    "for i in range(100):\n",
    "    game.execute_round()"
   ]
  },
  {
   "cell_type": "code",
   "execution_count": 105,
   "id": "c61811f5-40be-45a7-99ac-b1ccd908905e",
   "metadata": {},
   "outputs": [
    {
     "data": {
      "text/plain": [
       "{<__main__.Bidder at 0x15e7114dcd0>: 3.5604999999999993,\n",
       " <__main__.Bidder at 0x15e7114d250>: 4.1762000000000015}"
      ]
     },
     "execution_count": 105,
     "metadata": {},
     "output_type": "execute_result"
    }
   ],
   "source": [
    "game.balances"
   ]
  },
  {
   "cell_type": "code",
   "execution_count": 106,
   "id": "eb69ba47-e4da-4122-8a19-80653c25c116",
   "metadata": {},
   "outputs": [
    {
     "name": "stdout",
     "output_type": "stream",
     "text": [
      "<__main__.Bidder object at 0x0000015E7114DCD0> : {True: 50, False: 51}\n",
      "<__main__.Bidder object at 0x0000015E7114D250> : {True: 51, False: 50}\n"
     ]
    }
   ],
   "source": [
    "for i in game.bidders:\n",
    "    print(i,':',i.winning_list)"
   ]
  },
  {
   "cell_type": "code",
   "execution_count": 107,
   "id": "a469745d-a406-4a59-9bb8-c53fbfde1245",
   "metadata": {},
   "outputs": [
    {
     "name": "stdout",
     "output_type": "stream",
     "text": [
      "<__main__.Bidder object at 0x0000015E7114DCD0> : {'user_id 8': 5, 'user_id 7': 5, 'user_id 4': 2, 'user_id 3': 2, 'user_id 6': 1, 'user_id 9': 2, 'user_id 1': 1}\n",
      "<__main__.Bidder object at 0x0000015E7114D250> : {'user_id 3': 1, 'user_id 8': 8, 'user_id 1': 3, 'user_id 4': 3, 'user_id 5': 1, 'user_id 9': 4, 'user_id 7': 1, 'user_id 6': 1}\n"
     ]
    }
   ],
   "source": [
    "for i in game.bidders:\n",
    "    print(i,':',i.user_dict)"
   ]
  },
  {
   "cell_type": "markdown",
   "id": "a6f8394b-087d-411e-a3d6-aa724751d2a0",
   "metadata": {},
   "source": [
    "________________"
   ]
  },
  {
   "cell_type": "markdown",
   "id": "15810401-55f5-48a0-92e0-ec488020d068",
   "metadata": {},
   "source": [
    "### Testing my bidder Algorithm"
   ]
  },
  {
   "cell_type": "code",
   "execution_count": 123,
   "id": "59d08296-502f-4143-8814-5bc3dfef4b6d",
   "metadata": {},
   "outputs": [],
   "source": [
    "import numpy as np\n",
    "class Bidder_Dumb:\n",
    "    \"\"\"This is the Bidder class and used for the Auction.\n",
    "    \\nBidder(num_users, num_rounds)\n",
    "    \\nThere are two methods: Bid and Notify\"\"\"\n",
    "    def __init__(self, num_users, num_rounds):\n",
    "        self.num_users = num_users\n",
    "        self.num_rounds = num_rounds\n",
    "        self.user_dict ={} \n",
    "        self.winning_list = {True:0, False:0}\n",
    "        \n",
    "    def bid(self, user_id):\n",
    "        self.user_id = user_id\n",
    "        if self.user_dict == {}:\n",
    "            bid_amount = float(f\"{np.random.uniform():.2}\")\n",
    "            return bid_amount\n",
    "        # elif self.user_dict\n",
    "        else:\n",
    "            bid_amount = float(f\"{np.random.uniform():.2}\")\n",
    "            return bid_amount\n",
    "            \n",
    "    \n",
    "    def notify(self, auction_winner, price, clicked):\n",
    "        \"\"\"Adding auction win\"\"\"\n",
    "        self.winning_list[auction_winner] +=1\n",
    "        user= \"user_id \" +str(self.user_id)\n",
    "        if auction_winner == True and clicked == True:\n",
    "            if user in self.user_dict:\n",
    "                self.user_dict[user] += 1\n",
    "            else:\n",
    "                self.user_dict[user] = 1\n",
    "            # print(\"You won the auction and the cost of the bid was\", price)\n",
    "            # print(\"User choose to click:\",clicked)\n"
   ]
  },
  {
   "cell_type": "code",
   "execution_count": 179,
   "id": "3df1a4df-633c-4b5c-ac38-cbad041207fc",
   "metadata": {},
   "outputs": [],
   "source": [
    "user_list = [User() for i in range(10)]\n",
    "round = 100\n",
    "bidder1 = Bidder(len(user_list), round)\n",
    "bidder2 = Bidder_Dumb(len(user_list), round)\n",
    "bidder_list = [bidder1, bidder2]\n",
    "game = Auction(user_list, bidder_list)"
   ]
  },
  {
   "cell_type": "code",
   "execution_count": 180,
   "id": "beab4f71-9a2a-4ecb-ab8d-42d05637aeb4",
   "metadata": {},
   "outputs": [
    {
     "data": {
      "text/plain": [
       "{<__main__.Bidder at 0x15e71da9cd0>: 0,\n",
       " <__main__.Bidder_Dumb at 0x15e7114d9d0>: 0}"
      ]
     },
     "execution_count": 180,
     "metadata": {},
     "output_type": "execute_result"
    }
   ],
   "source": [
    "game.balances"
   ]
  },
  {
   "cell_type": "code",
   "execution_count": 197,
   "id": "d7399116-f61c-4b84-8dca-bbdfc40ddc9d",
   "metadata": {},
   "outputs": [],
   "source": [
    "for i in range(100):\n",
    "    game.execute_round()"
   ]
  },
  {
   "cell_type": "code",
   "execution_count": 198,
   "id": "24c06986-930b-4463-859d-7fa27403ae8f",
   "metadata": {},
   "outputs": [
    {
     "data": {
      "text/plain": [
       "{<__main__.Bidder at 0x15e71da9cd0>: 19.766300000000015,\n",
       " <__main__.Bidder_Dumb at 0x15e7114d9d0>: -65.75}"
      ]
     },
     "execution_count": 198,
     "metadata": {},
     "output_type": "execute_result"
    }
   ],
   "source": [
    "game.balances"
   ]
  },
  {
   "cell_type": "code",
   "execution_count": 199,
   "id": "d0ca9bc7-2624-4a10-adb8-013bd6b2e8f9",
   "metadata": {},
   "outputs": [
    {
     "name": "stdout",
     "output_type": "stream",
     "text": [
      "<__main__.Bidder object at 0x0000015E71DA9CD0> : {True: 272, False: 228}\n",
      "<__main__.Bidder_Dumb object at 0x0000015E7114D9D0> : {True: 228, False: 272}\n"
     ]
    }
   ],
   "source": [
    "for i in game.bidders:\n",
    "    print(i,':',i.winning_list)"
   ]
  },
  {
   "cell_type": "code",
   "execution_count": 200,
   "id": "ca2ba09f-70ab-44fa-b964-8d26acc1c8a7",
   "metadata": {},
   "outputs": [
    {
     "name": "stdout",
     "output_type": "stream",
     "text": [
      "<__main__.Bidder object at 0x0000015E71DA9CD0> : {'user_id 1': 7, 'user_id 5': 29, 'user_id 0': 9, 'user_id 6': 19, 'user_id 3': 17, 'user_id 8': 4, 'user_id 2': 5, 'user_id 7': 1}\n",
      "<__main__.Bidder_Dumb object at 0x0000015E7114D9D0> : {'user_id 3': 9, 'user_id 5': 11, 'user_id 6': 18, 'user_id 8': 3, 'user_id 2': 3, 'user_id 1': 4, 'user_id 0': 5}\n"
     ]
    }
   ],
   "source": [
    "for i in game.bidders:\n",
    "    print(i,':',i.user_dict)"
   ]
  }
 ],
 "metadata": {
  "kernelspec": {
   "display_name": "Python 3 (ipykernel)",
   "language": "python",
   "name": "python3"
  },
  "language_info": {
   "codemirror_mode": {
    "name": "ipython",
    "version": 3
   },
   "file_extension": ".py",
   "mimetype": "text/x-python",
   "name": "python",
   "nbconvert_exporter": "python",
   "pygments_lexer": "ipython3",
   "version": "3.9.12"
  }
 },
 "nbformat": 4,
 "nbformat_minor": 5
}
