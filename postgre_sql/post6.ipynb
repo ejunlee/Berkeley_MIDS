{
 "cells": [
  {
   "cell_type": "markdown",
   "id": "cd11da2a",
   "metadata": {},
   "source": [
    "# Project 1, Part 6, Identifying Best Customers\n"
   ]
  },
  {
   "cell_type": "markdown",
   "id": "701f1c25",
   "metadata": {},
   "source": [
    "# 1.6 Ideas on how the sales data can be used to help identify best customers\n",
    "\n",
    "The data science team would like to know your best ideas on how the sales data can be used to help identify the company's best customers.\n",
    "\n",
    "\n",
    "\n",
    "They are going to start with the most common and most basic model known as RFM, which consists of the 3 dimensions.\n",
    "\n",
    "* R - Recency - How recently did the customer purchase?\n",
    "\n",
    "* F - Frequency - How often do they purchase?\n",
    "\n",
    "* M - Monetary Value - How much do they spend?\n",
    "\n",
    "\n",
    "\n",
    "At first glance, it's pretty easy to think of a simple query for each dimension.\n",
    "\n",
    "However, after some thought, it's not quite so easy. It's very open ended, with a lot of grey areas, and no single right or wrong answer (just like 99% of data science and AI!)  For each dimension, there can be some pretty complex ways to determine.\n",
    "\n",
    "The data science team also has to come up with a way to synthesize the 3 dimensions into a single customer value for each customer.\n",
    "\n",
    "\n",
    "\n",
    "The data science team would like for you to present your ideas in the form of 4 paragraphs as follows:\n",
    "\n",
    "* Recency - A paragraph of 3 to 5 sentences briefly explaining your ideas on how the data can be used to determine recency.  \n",
    "\n",
    "* Frequency - A paragraph of 3 to 5 sentences briefly explaining your ideas on how the data can be used to determine frequency.\n",
    "\n",
    "* Monetary Value - A paragraph of 3 to 5 sentences briefly explaining your ideas on how the data can be used to determine monetary value.\n",
    "\n",
    "* Synthesis - A paragraph of 3 to 5 sentences briefly explaining your ideas on how to synthesize the 3 dimensions of recency, frequency, and monetary value into a customer value for each customer and how to determine who the best customers are.\n",
    "\n",
    "\n",
    "\n",
    "Put all 4 paragraphs in a single markdown cell.\n",
    "\n",
    "Note that you do not write code for this, only english language descriptions of your ideas.\n",
    "\n"
   ]
  },
  {
   "cell_type": "markdown",
   "id": "67dd986f",
   "metadata": {},
   "source": [
    "# Replace this with your title\n",
    "\n",
    "Replace this with your 4 paragraphs"
   ]
  },
  {
   "cell_type": "markdown",
   "id": "be4e952e",
   "metadata": {},
   "source": [
    "Recency:\n",
    "\n",
    "The data can be used to find and understand how recent a customer purchases a good. The data table customers and sales can be joined (on the customer_id) to see what the recent customers are and who hasn’t purchased in a long time. By ordering the join table you can see the most recent customers and how much they purchased. What would be interesting, is to see the customers that haven’t purchased recently and learn why they haven’t purchased anything at your store currently.\n",
    "\n",
    "____________________________\n",
    "Frequency:\n",
    "\n",
    "The data can be used to find and understand how frequent a customer shops at your store. By using the sales table and customer table you can do a join on the customer _id. By doing that join you get a little more information on customer name and how close he is to a store. By looking at the sale_date from the sales table you can look at how frequent the customer purchases goods and what their average amount of purchase is. Using that join table you can look at each customer individually and create a column of the difference of their last shopping date and the current shopping date, and then with that that table you can create a new query to take an average of how often the customer shops.\n",
    "\n",
    "__________________\n",
    "\n",
    "Monetary Value:\n",
    "\n",
    "The data can be used to find and understand how much a customer shops at your store. By doing a join with the sales table and customer table on the customer_id you can filter out the data set to view a specific store. You can also the average amount a customer spent on the sales table by grouping customer_id and aggregating that over the average total_amount. \n",
    "\n",
    "________________________\n",
    "Synthesis:\n",
    "\n",
    "Theres multiple ways to better understand your customers by look at recency, frequency, and monetary value. First you need to understand the business question being asked and define what your best customer is so you can look at the data and see if there exists such a customer. The desired table you will need to work with is joining the customer and sales table on the customer_id. You can look at how frequent a customer shops at your store and what is the average he spends. Then by looking at the distance of the customer you can have a better idea how much your customer is willing to spend for his distance and how frequently that customer is willing to come into the store."
   ]
  }
 ],
 "metadata": {
  "kernelspec": {
   "display_name": "Python 3 (ipykernel)",
   "language": "python",
   "name": "python3"
  },
  "language_info": {
   "codemirror_mode": {
    "name": "ipython",
    "version": 3
   },
   "file_extension": ".py",
   "mimetype": "text/x-python",
   "name": "python",
   "nbconvert_exporter": "python",
   "pygments_lexer": "ipython3",
   "version": "3.9.7"
  }
 },
 "nbformat": 4,
 "nbformat_minor": 5
}
